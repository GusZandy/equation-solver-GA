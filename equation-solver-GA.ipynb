{
  "nbformat": 4,
  "nbformat_minor": 0,
  "metadata": {
    "colab": {
      "name": "GA - Persamaan Sederhana.ipynb",
      "provenance": [],
      "collapsed_sections": [],
      "toc_visible": true
    },
    "kernelspec": {
      "name": "python3",
      "display_name": "Python 3"
    },
    "accelerator": "GPU"
  },
  "cells": [
    {
      "cell_type": "markdown",
      "metadata": {
        "id": "5BP4jUgS8UVk",
        "colab_type": "text"
      },
      "source": [
        "# Kasus 1 : Persamaan Sederahana\n",
        "Mencari solusi dari sebuah Persamaan sederahana contoh:\n",
        "\n",
        "> $a + 2b - 3c +4d = 30$\n",
        "\n",
        "mentukan nilai $a, b, c, d$"
      ]
    },
    {
      "cell_type": "markdown",
      "metadata": {
        "id": "W_nyoIsE9f80",
        "colab_type": "text"
      },
      "source": [
        "## Populasi Awal\n",
        "\n",
        "Representasi yang digunakan : $Real  Number$\n",
        "\n",
        "Jumlah gen pada setiap kromosom akan tergantung persamaan yang dimasukkan \n",
        "\n",
        "Dalam setiap satu populasi pada sebuah generasi akan terdiri dari 10 Kromosom\n"
      ]
    },
    {
      "cell_type": "code",
      "metadata": {
        "id": "cd7txjbMK3gr",
        "colab_type": "code",
        "colab": {}
      },
      "source": [
        "import random\n",
        "import re\n",
        "import operator as operan"
      ],
      "execution_count": 0,
      "outputs": []
    },
    {
      "cell_type": "markdown",
      "metadata": {
        "id": "JDnmvxiKemop",
        "colab_type": "text"
      },
      "source": [
        "Inputkan persamaan dibawah, batasan :\n",
        "*   Constanta hanya terdiri dari 1 Digit\n",
        "*   Operator yang di kenali hanya tambah(+) dan kurang (-)\n",
        "\n"
      ]
    },
    {
      "cell_type": "code",
      "metadata": {
        "id": "SHpDeEQFelv-",
        "colab_type": "code",
        "colab": {}
      },
      "source": [
        "equation = 'a+2b=30'"
      ],
      "execution_count": 0,
      "outputs": []
    },
    {
      "cell_type": "code",
      "metadata": {
        "id": "lFBRCcnrLmLB",
        "colab_type": "code",
        "colab": {}
      },
      "source": [
        "Genes = [-10,-9,-8,-7,-6,-5,-4,-3,-2,-1,0,1,2,3,4,5,6,7,8,9,10]\n",
        "ops = { \"+\": operan.add, \n",
        "        \"-\": operan.sub }"
      ],
      "execution_count": 0,
      "outputs": []
    },
    {
      "cell_type": "code",
      "metadata": {
        "id": "jyZ8fX1R4cQP",
        "colab_type": "code",
        "colab": {}
      },
      "source": [
        "def break_equation(equation):\n",
        "  equation_resul = int(equation.split('=')[1])\n",
        "\n",
        "  equation_body = equation.split('=')[0]\n",
        "  equation_split_op = re.split(r'[-+]', equation_body)\n",
        "  geneSize = len(equation_split_op)\n",
        "\n",
        "  operator = []\n",
        "  for x in list(equation_body):\n",
        "    if (x == '-' or x == '+'):\n",
        "      operator.append(x)\n",
        "\n",
        "  cons = []\n",
        "  for y in equation_split_op:\n",
        "    if len(list(y)) == 1:\n",
        "      cons.append(1)\n",
        "    else:\n",
        "      cons.append(int(list(y)[0]))\n",
        "  \n",
        "  return cons, operator, equation_resul, geneSize"
      ],
      "execution_count": 0,
      "outputs": []
    },
    {
      "cell_type": "code",
      "metadata": {
        "id": "hJyDxlEe28Cj",
        "colab_type": "code",
        "outputId": "391e8a1c-a712-437f-e59c-2fa5dd374014",
        "colab": {
          "base_uri": "https://localhost:8080/",
          "height": 85
        }
      },
      "source": [
        "cons, operator, equation_resul, geneSize = break_equation(equation)\n",
        "print(cons)\n",
        "print(operator)\n",
        "print(equation_resul)\n",
        "print(geneSize)\n"
      ],
      "execution_count": 0,
      "outputs": [
        {
          "output_type": "stream",
          "text": [
            "[1, 2]\n",
            "['+']\n",
            "30\n",
            "2\n"
          ],
          "name": "stdout"
        }
      ]
    },
    {
      "cell_type": "code",
      "metadata": {
        "id": "U-_gOI3bpNrx",
        "colab_type": "code",
        "colab": {}
      },
      "source": [
        "def rand_gene(Genes): \n",
        "  gene = random.choice(Genes) \n",
        "  return gene\n",
        "\n",
        "def create_chromosome():\n",
        "  return [rand_gene(Genes) for i in range(geneSize)]"
      ],
      "execution_count": 0,
      "outputs": []
    },
    {
      "cell_type": "code",
      "metadata": {
        "id": "XkmaP-pp4V6w",
        "colab_type": "code",
        "colab": {}
      },
      "source": [
        "class Individual:\n",
        "  def __init__(self, chromosome):\n",
        "    self.chromosome = chromosome\n",
        "    self.fitness = self.cal_fitness()\n",
        "\n",
        "  global cons\n",
        "  global operator\n",
        "  global equation_resul\n",
        "  global ops\n",
        "  \n",
        "  def cal_fitness(self):\n",
        "    result = ops[operator[0]]((cons[0]*self.chromosome[0]),(cons[1]*self.chromosome[1]))\n",
        "    for i in range(1, len(operator)):\n",
        "      result = ops[operator[i]](result,(cons[i+1]*self.chromosome[i+1]))\n",
        "\n",
        "    minimasi = abs(equation_resul-result)\n",
        "    \n",
        "    return minimasi;"
      ],
      "execution_count": 0,
      "outputs": []
    },
    {
      "cell_type": "code",
      "metadata": {
        "id": "VfyEOx9HVCFZ",
        "colab_type": "code",
        "outputId": "9efab9a7-2832-4f9a-ddda-f758211f1a7f",
        "colab": {
          "base_uri": "https://localhost:8080/",
          "height": 221
        }
      },
      "source": [
        "PopulationSize = 10\n",
        "population = []\n",
        "\n",
        "# create initial population\n",
        "for i in range(PopulationSize): \n",
        "  chromosome = create_chromosome()\n",
        "  population.append(Individual(chromosome))\n",
        "\n",
        "# population = sorted(population, key = lambda x:x.fitness)\n",
        "print('Init Generation:\\n')\n",
        "for i in range(PopulationSize): \n",
        "  print(\"Individu {}: {} - Fit: {}\".format(i+1,population[i].chromosome, population[i].fitness)) \n"
      ],
      "execution_count": 0,
      "outputs": [
        {
          "output_type": "stream",
          "text": [
            "Init Generation:\n",
            "\n",
            "Individu 1: [3, -2] - Fit: 31\n",
            "Individu 2: [-8, -8] - Fit: 54\n",
            "Individu 3: [4, 10] - Fit: 6\n",
            "Individu 4: [2, 1] - Fit: 26\n",
            "Individu 5: [10, 5] - Fit: 10\n",
            "Individu 6: [10, -9] - Fit: 38\n",
            "Individu 7: [6, 8] - Fit: 8\n",
            "Individu 8: [-4, 7] - Fit: 20\n",
            "Individu 9: [-8, -10] - Fit: 58\n",
            "Individu 10: [-1, -8] - Fit: 47\n"
          ],
          "name": "stdout"
        }
      ]
    },
    {
      "cell_type": "markdown",
      "metadata": {
        "id": "cA8ifG2SLTA7",
        "colab_type": "text"
      },
      "source": [
        "## Proses Evolusi"
      ]
    },
    {
      "cell_type": "code",
      "metadata": {
        "id": "ypEVgPoZ94tB",
        "colab_type": "code",
        "colab": {}
      },
      "source": [
        "class Selection:\n",
        "    @staticmethod\n",
        "    def roulette_wheel_selection(pop):\n",
        "        \"\"\"Roulette Wheel Parent Selection.\n",
        "\n",
        "        Args:\n",
        "            population: List of chromosomes.\n",
        "\n",
        "        Returns:\n",
        "            both of selected chromosomes.\n",
        "\n",
        "        \"\"\"\n",
        "    # compute sum of fitness\n",
        "        sum_of_fitness = 0\n",
        "        for chromosome in pop:\n",
        "            sum_of_fitness += chromosome.fitness\n",
        "\n",
        "    # generate random number\n",
        "        random_number = [random.uniform(0,sum_of_fitness), random.uniform(0,sum_of_fitness)]\n",
        "\n",
        "    # get first selected chromosome\n",
        "        sum_of_fitness = 0\n",
        "        no_of_selected_chromosome = [0, 0]\n",
        "        for chromosome in pop:\n",
        "            sum_of_fitness += chromosome.fitness\n",
        "            if sum_of_fitness > random_number[0]:\n",
        "                break\n",
        "            else:\n",
        "                no_of_selected_chromosome[0] += 1\n",
        "\n",
        "    # get second selected chromosome            \n",
        "        sum_of_fitness = 0\n",
        "        for chromosome in pop:\n",
        "            sum_of_fitness += chromosome.fitness\n",
        "            if sum_of_fitness > random_number[1]:\n",
        "                break\n",
        "            else:\n",
        "                no_of_selected_chromosome[1] += 1\n",
        "    \n",
        "    # check if both of selected chromosomes are same\n",
        "        if no_of_selected_chromosome[0] == no_of_selected_chromosome[1]:\n",
        "            sum_of_fitness = 0\n",
        "            no_of_selected_chromosome[1] = 0\n",
        "            \n",
        "            for chromosome in pop:\n",
        "                sum_of_fitness += chromosome.fitness\n",
        "                if sum_of_fitness > random_number[1]:\n",
        "                    break\n",
        "                else:\n",
        "                    no_of_selected_chromosome[1] += 1\n",
        "\n",
        "        return pop[no_of_selected_chromosome[0]], pop[no_of_selected_chromosome[1]]\n",
        "    \n",
        "    @staticmethod\n",
        "    def rank_selection(pop):\n",
        "        \"\"\"Rank Parent Selection.\n",
        "\n",
        "        Args:\n",
        "            population: List of chromosomes.\n",
        "\n",
        "        Returns:\n",
        "            both of selected chromosomes.\n",
        "\n",
        "        \"\"\"\n",
        "    # set size buffer population\n",
        "        buffer_size = 4\n",
        "        \n",
        "    # generate random number\n",
        "        random_number = random.sample(range(0,PopulationSize-1),buffer_size)\n",
        "        \n",
        "    # create buffer population from population with generated random numbers\n",
        "        buffer_population = []\n",
        "        for num in random_number:\n",
        "            buffer_population.append(pop[num])\n",
        "        \n",
        "    # select best of 2 parent candidate from buffer population\n",
        "        selected_parent_1 = min(buffer_population, key=lambda x: x.fitness)\n",
        "        buffer_population.remove(min(buffer_population, key=lambda x: x.fitness))\n",
        "        selected_parent_2 = min(buffer_population, key=lambda x: x.fitness)\n",
        "\n",
        "        return selected_parent_1, selected_parent_2\n",
        "\n",
        "class Crossover:\n",
        "    @staticmethod\n",
        "    def uniform_crossover(parent_1, parent_2):\n",
        "        \"\"\"Uniform Crossover.\n",
        "\n",
        "        Args:\n",
        "            population: List of chromosomes.\n",
        "\n",
        "        Returns:\n",
        "            chromosome of offspring.\n",
        "\n",
        "        \"\"\"\n",
        "    # set threshold\n",
        "        threshold = 0.5\n",
        "\n",
        "    # generate random number\n",
        "        random_number = [random.random() for i in range(geneSize)]\n",
        "\n",
        "    # crossovering\n",
        "        buffer_of_offspring = [0 for i in range(geneSize)]\n",
        "        for no_of_gen in range(geneSize):\n",
        "            if random_number[no_of_gen] > threshold:\n",
        "                buffer_of_offspring[no_of_gen] = parent_1.chromosome[no_of_gen]\n",
        "            else:\n",
        "                buffer_of_offspring[no_of_gen] = parent_2.chromosome[no_of_gen]\n",
        "\n",
        "        return buffer_of_offspring\n",
        "    \n",
        "    @staticmethod\n",
        "    def arithmetic_crossover(parent_1, parent_2):\n",
        "        \"\"\"Arithmetic Crossover.\n",
        "\n",
        "        Args:\n",
        "            population: List of chromosomes.\n",
        "\n",
        "        Returns:\n",
        "            chromosome of offspring.\n",
        "\n",
        "        \"\"\"\n",
        "\n",
        "    # crossovering\n",
        "        buffer_of_offspring = [0 for i in range(geneSize)]\n",
        "        for no_of_gen in range(geneSize):\n",
        "                buffer_of_offspring[no_of_gen] = Genes[int(parent_1.chromosome[no_of_gen] + parent_2.chromosome[no_of_gen]) % len(Genes)]\n",
        "\n",
        "        return buffer_of_offspring\n",
        "\n",
        "class Mutation:\n",
        "    @staticmethod\n",
        "    def mutate(offspring):\n",
        "        \"\"\"Mutation of offspring\n",
        "\n",
        "        Args:\n",
        "            population: List of chromosomes.\n",
        "\n",
        "        Returns:\n",
        "            chromosome of offspring.\n",
        "\n",
        "        \"\"\"\n",
        "    # generate random number\n",
        "        random_number = [random.random() for i in range(geneSize)]\n",
        "\n",
        "    # mutating gen\n",
        "        for no_of_gen in range(geneSize):\n",
        "            if random_number[no_of_gen] > 0.95:\n",
        "                offspring[no_of_gen] = round(offspring[no_of_gen] / 2)\n",
        "        return offspring"
      ],
      "execution_count": 0,
      "outputs": []
    },
    {
      "cell_type": "markdown",
      "metadata": {
        "id": "MgSpZvwOLiHR",
        "colab_type": "text"
      },
      "source": [
        "### 1. Roulate + Uniform\n"
      ]
    },
    {
      "cell_type": "code",
      "metadata": {
        "id": "8Y6qHr1sLylZ",
        "colab_type": "code",
        "outputId": "74d4f739-31cf-4657-ed7e-eebb5fed9661",
        "colab": {
          "base_uri": "https://localhost:8080/",
          "height": 867
        }
      },
      "source": [
        "# copy initial population\n",
        "buffer_of_population = []\n",
        "number_of_crossover = 5\n",
        "\n",
        "for pop in population:\n",
        "    buffer_of_population.append(Individual(pop.chromosome))\n",
        "\n",
        "for generation in range(50):\n",
        "    for i in range(number_of_crossover):\n",
        "        offspring = []\n",
        "# selection of parent    \n",
        "        parent_1, parent_2 = Selection.roulette_wheel_selection(buffer_of_population)\n",
        "    \n",
        "# crossovering parent\n",
        "        offspring = Crossover.uniform_crossover(parent_1, parent_2)\n",
        "    \n",
        "# mutating offspring\n",
        "        offspring = Mutation.mutate(offspring)\n",
        "\n",
        "# add offspring to population\n",
        "        buffer_of_population.append(Individual(offspring))\n",
        "    \n",
        "# remove the worst fitness\n",
        "    for i in range(number_of_crossover):\n",
        "        buffer_of_population.remove(max(buffer_of_population, key=lambda x: x.fitness))\n",
        "    print(\"Generation: {} \\t=> Best Chromosome: {} \\t with fitness: {}\".format(generation + 1, min(buffer_of_population, key=lambda x: x.fitness).chromosome, min(buffer_of_population, key=lambda x: x.fitness).fitness))"
      ],
      "execution_count": 0,
      "outputs": [
        {
          "output_type": "stream",
          "text": [
            "Generation: 1 \t=> Best Chromosome: [4, 10] \t with fitness: 6\n",
            "Generation: 2 \t=> Best Chromosome: [4, 10] \t with fitness: 6\n",
            "Generation: 3 \t=> Best Chromosome: [4, 10] \t with fitness: 6\n",
            "Generation: 4 \t=> Best Chromosome: [4, 10] \t with fitness: 6\n",
            "Generation: 5 \t=> Best Chromosome: [4, 10] \t with fitness: 6\n",
            "Generation: 6 \t=> Best Chromosome: [4, 10] \t with fitness: 6\n",
            "Generation: 7 \t=> Best Chromosome: [4, 10] \t with fitness: 6\n",
            "Generation: 8 \t=> Best Chromosome: [4, 10] \t with fitness: 6\n",
            "Generation: 9 \t=> Best Chromosome: [10, 8] \t with fitness: 4\n",
            "Generation: 10 \t=> Best Chromosome: [10, 8] \t with fitness: 4\n",
            "Generation: 11 \t=> Best Chromosome: [10, 8] \t with fitness: 4\n",
            "Generation: 12 \t=> Best Chromosome: [10, 8] \t with fitness: 4\n",
            "Generation: 13 \t=> Best Chromosome: [10, 8] \t with fitness: 4\n",
            "Generation: 14 \t=> Best Chromosome: [10, 8] \t with fitness: 4\n",
            "Generation: 15 \t=> Best Chromosome: [10, 8] \t with fitness: 4\n",
            "Generation: 16 \t=> Best Chromosome: [6, 10] \t with fitness: 4\n",
            "Generation: 17 \t=> Best Chromosome: [6, 10] \t with fitness: 4\n",
            "Generation: 18 \t=> Best Chromosome: [6, 10] \t with fitness: 4\n",
            "Generation: 19 \t=> Best Chromosome: [6, 10] \t with fitness: 4\n",
            "Generation: 20 \t=> Best Chromosome: [6, 10] \t with fitness: 4\n",
            "Generation: 21 \t=> Best Chromosome: [6, 10] \t with fitness: 4\n",
            "Generation: 22 \t=> Best Chromosome: [6, 10] \t with fitness: 4\n",
            "Generation: 23 \t=> Best Chromosome: [6, 10] \t with fitness: 4\n",
            "Generation: 24 \t=> Best Chromosome: [6, 10] \t with fitness: 4\n",
            "Generation: 25 \t=> Best Chromosome: [6, 10] \t with fitness: 4\n",
            "Generation: 26 \t=> Best Chromosome: [6, 10] \t with fitness: 4\n",
            "Generation: 27 \t=> Best Chromosome: [6, 10] \t with fitness: 4\n",
            "Generation: 28 \t=> Best Chromosome: [6, 10] \t with fitness: 4\n",
            "Generation: 29 \t=> Best Chromosome: [6, 10] \t with fitness: 4\n",
            "Generation: 30 \t=> Best Chromosome: [6, 10] \t with fitness: 4\n",
            "Generation: 31 \t=> Best Chromosome: [6, 10] \t with fitness: 4\n",
            "Generation: 32 \t=> Best Chromosome: [6, 10] \t with fitness: 4\n",
            "Generation: 33 \t=> Best Chromosome: [6, 10] \t with fitness: 4\n",
            "Generation: 34 \t=> Best Chromosome: [6, 10] \t with fitness: 4\n",
            "Generation: 35 \t=> Best Chromosome: [6, 10] \t with fitness: 4\n",
            "Generation: 36 \t=> Best Chromosome: [6, 10] \t with fitness: 4\n",
            "Generation: 37 \t=> Best Chromosome: [6, 10] \t with fitness: 4\n",
            "Generation: 38 \t=> Best Chromosome: [6, 10] \t with fitness: 4\n",
            "Generation: 39 \t=> Best Chromosome: [6, 10] \t with fitness: 4\n",
            "Generation: 40 \t=> Best Chromosome: [6, 10] \t with fitness: 4\n",
            "Generation: 41 \t=> Best Chromosome: [6, 10] \t with fitness: 4\n",
            "Generation: 42 \t=> Best Chromosome: [6, 10] \t with fitness: 4\n",
            "Generation: 43 \t=> Best Chromosome: [6, 10] \t with fitness: 4\n",
            "Generation: 44 \t=> Best Chromosome: [6, 10] \t with fitness: 4\n",
            "Generation: 45 \t=> Best Chromosome: [6, 10] \t with fitness: 4\n",
            "Generation: 46 \t=> Best Chromosome: [6, 10] \t with fitness: 4\n",
            "Generation: 47 \t=> Best Chromosome: [6, 10] \t with fitness: 4\n",
            "Generation: 48 \t=> Best Chromosome: [6, 10] \t with fitness: 4\n",
            "Generation: 49 \t=> Best Chromosome: [6, 10] \t with fitness: 4\n",
            "Generation: 50 \t=> Best Chromosome: [6, 10] \t with fitness: 4\n"
          ],
          "name": "stdout"
        }
      ]
    },
    {
      "cell_type": "markdown",
      "metadata": {
        "id": "l5f26KyvL3UD",
        "colab_type": "text"
      },
      "source": [
        "### 2. Roulate + Aritmatik\n"
      ]
    },
    {
      "cell_type": "code",
      "metadata": {
        "id": "VN9p9CePMBnD",
        "colab_type": "code",
        "outputId": "7f50e08e-9189-47ef-cd3d-3608f9c909d6",
        "colab": {
          "base_uri": "https://localhost:8080/",
          "height": 867
        }
      },
      "source": [
        "# copy initial population\n",
        "buffer_of_population = []\n",
        "number_of_crossover = 5\n",
        "\n",
        "for pop in population:\n",
        "    buffer_of_population.append(Individual(pop.chromosome))\n",
        "    \n",
        "for generation in range(50):\n",
        "    for i in range(number_of_crossover):\n",
        "# selection of parent    \n",
        "        parent_1, parent_2 = Selection.roulette_wheel_selection(buffer_of_population)\n",
        "    \n",
        "# crossovering parent\n",
        "        offspring = Crossover.arithmetic_crossover(parent_1, parent_2)\n",
        "    \n",
        "# mutating offspring\n",
        "        offspring = Mutation.mutate(offspring)\n",
        "\n",
        "# add offspring to population\n",
        "        buffer_of_population.append(Individual(offspring))\n",
        "    \n",
        "# remove the worst fitness\n",
        "    for i in range(number_of_crossover):\n",
        "        buffer_of_population.remove(max(buffer_of_population, key=lambda x: x.fitness))\n",
        "    print(\"Generation: {} \\t=> Best Chromosome: {} \\t with fitness: {}\".format(generation + 1, min(buffer_of_population, key=lambda x: x.fitness).chromosome, min(buffer_of_population, key=lambda x: x.fitness).fitness))"
      ],
      "execution_count": 0,
      "outputs": [
        {
          "output_type": "stream",
          "text": [
            "Generation: 1 \t=> Best Chromosome: [4, 10] \t with fitness: 6\n",
            "Generation: 2 \t=> Best Chromosome: [6, 10] \t with fitness: 4\n",
            "Generation: 3 \t=> Best Chromosome: [6, 10] \t with fitness: 4\n",
            "Generation: 4 \t=> Best Chromosome: [6, 10] \t with fitness: 4\n",
            "Generation: 5 \t=> Best Chromosome: [6, 10] \t with fitness: 4\n",
            "Generation: 6 \t=> Best Chromosome: [6, 10] \t with fitness: 4\n",
            "Generation: 7 \t=> Best Chromosome: [6, 10] \t with fitness: 4\n",
            "Generation: 8 \t=> Best Chromosome: [6, 10] \t with fitness: 4\n",
            "Generation: 9 \t=> Best Chromosome: [6, 10] \t with fitness: 4\n",
            "Generation: 10 \t=> Best Chromosome: [6, 10] \t with fitness: 4\n",
            "Generation: 11 \t=> Best Chromosome: [7, 10] \t with fitness: 3\n",
            "Generation: 12 \t=> Best Chromosome: [7, 10] \t with fitness: 3\n",
            "Generation: 13 \t=> Best Chromosome: [7, 10] \t with fitness: 3\n",
            "Generation: 14 \t=> Best Chromosome: [7, 10] \t with fitness: 3\n",
            "Generation: 15 \t=> Best Chromosome: [7, 10] \t with fitness: 3\n",
            "Generation: 16 \t=> Best Chromosome: [7, 10] \t with fitness: 3\n",
            "Generation: 17 \t=> Best Chromosome: [7, 10] \t with fitness: 3\n",
            "Generation: 18 \t=> Best Chromosome: [9, 10] \t with fitness: 1\n",
            "Generation: 19 \t=> Best Chromosome: [9, 10] \t with fitness: 1\n",
            "Generation: 20 \t=> Best Chromosome: [9, 10] \t with fitness: 1\n",
            "Generation: 21 \t=> Best Chromosome: [9, 10] \t with fitness: 1\n",
            "Generation: 22 \t=> Best Chromosome: [9, 10] \t with fitness: 1\n",
            "Generation: 23 \t=> Best Chromosome: [9, 10] \t with fitness: 1\n",
            "Generation: 24 \t=> Best Chromosome: [10, 10] \t with fitness: 0\n",
            "Generation: 25 \t=> Best Chromosome: [10, 10] \t with fitness: 0\n",
            "Generation: 26 \t=> Best Chromosome: [10, 10] \t with fitness: 0\n",
            "Generation: 27 \t=> Best Chromosome: [10, 10] \t with fitness: 0\n",
            "Generation: 28 \t=> Best Chromosome: [10, 10] \t with fitness: 0\n",
            "Generation: 29 \t=> Best Chromosome: [10, 10] \t with fitness: 0\n",
            "Generation: 30 \t=> Best Chromosome: [10, 10] \t with fitness: 0\n",
            "Generation: 31 \t=> Best Chromosome: [10, 10] \t with fitness: 0\n",
            "Generation: 32 \t=> Best Chromosome: [10, 10] \t with fitness: 0\n",
            "Generation: 33 \t=> Best Chromosome: [10, 10] \t with fitness: 0\n",
            "Generation: 34 \t=> Best Chromosome: [10, 10] \t with fitness: 0\n",
            "Generation: 35 \t=> Best Chromosome: [10, 10] \t with fitness: 0\n",
            "Generation: 36 \t=> Best Chromosome: [10, 10] \t with fitness: 0\n",
            "Generation: 37 \t=> Best Chromosome: [10, 10] \t with fitness: 0\n",
            "Generation: 38 \t=> Best Chromosome: [10, 10] \t with fitness: 0\n",
            "Generation: 39 \t=> Best Chromosome: [10, 10] \t with fitness: 0\n",
            "Generation: 40 \t=> Best Chromosome: [10, 10] \t with fitness: 0\n",
            "Generation: 41 \t=> Best Chromosome: [10, 10] \t with fitness: 0\n",
            "Generation: 42 \t=> Best Chromosome: [10, 10] \t with fitness: 0\n",
            "Generation: 43 \t=> Best Chromosome: [10, 10] \t with fitness: 0\n",
            "Generation: 44 \t=> Best Chromosome: [10, 10] \t with fitness: 0\n",
            "Generation: 45 \t=> Best Chromosome: [10, 10] \t with fitness: 0\n",
            "Generation: 46 \t=> Best Chromosome: [10, 10] \t with fitness: 0\n",
            "Generation: 47 \t=> Best Chromosome: [10, 10] \t with fitness: 0\n",
            "Generation: 48 \t=> Best Chromosome: [10, 10] \t with fitness: 0\n",
            "Generation: 49 \t=> Best Chromosome: [10, 10] \t with fitness: 0\n",
            "Generation: 50 \t=> Best Chromosome: [10, 10] \t with fitness: 0\n"
          ],
          "name": "stdout"
        }
      ]
    },
    {
      "cell_type": "markdown",
      "metadata": {
        "id": "06G061GNMDKe",
        "colab_type": "text"
      },
      "source": [
        "### 3. Rank Based + Uniform\n"
      ]
    },
    {
      "cell_type": "code",
      "metadata": {
        "id": "VTTNMwGFMKRw",
        "colab_type": "code",
        "outputId": "b0847c24-b6de-46b1-cd92-7c6679206194",
        "colab": {
          "base_uri": "https://localhost:8080/",
          "height": 867
        }
      },
      "source": [
        "# # copy initial population\n",
        "buffer_of_population = []\n",
        "number_of_crossover = 5\n",
        "\n",
        "for pop in population:\n",
        "    buffer_of_population.append(Individual(pop.chromosome))\n",
        "    \n",
        "for generation in range(50):\n",
        "    for i in range(number_of_crossover):\n",
        "# selection of parent    \n",
        "      parent_1, parent_2 = Selection.rank_selection(buffer_of_population)\n",
        "\n",
        "# crossovering parent\n",
        "      offspring = Crossover.uniform_crossover(parent_1, parent_2)\n",
        "    \n",
        "# mutating offspring\n",
        "      offspring = Mutation.mutate(offspring)\n",
        "\n",
        "# add offspring to population\n",
        "      buffer_of_population.append(Individual(offspring))\n",
        "    \n",
        "# remove the worst fitness\n",
        "    for i in range(number_of_crossover):\n",
        "      buffer_of_population.remove(max(buffer_of_population, key=lambda x: x.fitness))\n",
        "    print(\"Generation: {} \\t=> Best Chromosome: {} \\t with fitness: {}\".format(generation + 1, min(buffer_of_population, key=lambda x: x.fitness).chromosome, min(buffer_of_population, key=lambda x: x.fitness).fitness))"
      ],
      "execution_count": 0,
      "outputs": [
        {
          "output_type": "stream",
          "text": [
            "Generation: 1 \t=> Best Chromosome: [4, 10] \t with fitness: 6\n",
            "Generation: 2 \t=> Best Chromosome: [6, 10] \t with fitness: 4\n",
            "Generation: 3 \t=> Best Chromosome: [6, 10] \t with fitness: 4\n",
            "Generation: 4 \t=> Best Chromosome: [6, 10] \t with fitness: 4\n",
            "Generation: 5 \t=> Best Chromosome: [6, 10] \t with fitness: 4\n",
            "Generation: 6 \t=> Best Chromosome: [6, 10] \t with fitness: 4\n",
            "Generation: 7 \t=> Best Chromosome: [6, 10] \t with fitness: 4\n",
            "Generation: 8 \t=> Best Chromosome: [6, 10] \t with fitness: 4\n",
            "Generation: 9 \t=> Best Chromosome: [6, 10] \t with fitness: 4\n",
            "Generation: 10 \t=> Best Chromosome: [6, 10] \t with fitness: 4\n",
            "Generation: 11 \t=> Best Chromosome: [6, 10] \t with fitness: 4\n",
            "Generation: 12 \t=> Best Chromosome: [6, 10] \t with fitness: 4\n",
            "Generation: 13 \t=> Best Chromosome: [6, 10] \t with fitness: 4\n",
            "Generation: 14 \t=> Best Chromosome: [6, 10] \t with fitness: 4\n",
            "Generation: 15 \t=> Best Chromosome: [6, 10] \t with fitness: 4\n",
            "Generation: 16 \t=> Best Chromosome: [6, 10] \t with fitness: 4\n",
            "Generation: 17 \t=> Best Chromosome: [6, 10] \t with fitness: 4\n",
            "Generation: 18 \t=> Best Chromosome: [6, 10] \t with fitness: 4\n",
            "Generation: 19 \t=> Best Chromosome: [6, 10] \t with fitness: 4\n",
            "Generation: 20 \t=> Best Chromosome: [6, 10] \t with fitness: 4\n",
            "Generation: 21 \t=> Best Chromosome: [6, 10] \t with fitness: 4\n",
            "Generation: 22 \t=> Best Chromosome: [6, 10] \t with fitness: 4\n",
            "Generation: 23 \t=> Best Chromosome: [6, 10] \t with fitness: 4\n",
            "Generation: 24 \t=> Best Chromosome: [6, 10] \t with fitness: 4\n",
            "Generation: 25 \t=> Best Chromosome: [6, 10] \t with fitness: 4\n",
            "Generation: 26 \t=> Best Chromosome: [6, 10] \t with fitness: 4\n",
            "Generation: 27 \t=> Best Chromosome: [6, 10] \t with fitness: 4\n",
            "Generation: 28 \t=> Best Chromosome: [6, 10] \t with fitness: 4\n",
            "Generation: 29 \t=> Best Chromosome: [6, 10] \t with fitness: 4\n",
            "Generation: 30 \t=> Best Chromosome: [6, 10] \t with fitness: 4\n",
            "Generation: 31 \t=> Best Chromosome: [6, 10] \t with fitness: 4\n",
            "Generation: 32 \t=> Best Chromosome: [6, 10] \t with fitness: 4\n",
            "Generation: 33 \t=> Best Chromosome: [6, 10] \t with fitness: 4\n",
            "Generation: 34 \t=> Best Chromosome: [6, 10] \t with fitness: 4\n",
            "Generation: 35 \t=> Best Chromosome: [6, 10] \t with fitness: 4\n",
            "Generation: 36 \t=> Best Chromosome: [6, 10] \t with fitness: 4\n",
            "Generation: 37 \t=> Best Chromosome: [6, 10] \t with fitness: 4\n",
            "Generation: 38 \t=> Best Chromosome: [6, 10] \t with fitness: 4\n",
            "Generation: 39 \t=> Best Chromosome: [6, 10] \t with fitness: 4\n",
            "Generation: 40 \t=> Best Chromosome: [6, 10] \t with fitness: 4\n",
            "Generation: 41 \t=> Best Chromosome: [6, 10] \t with fitness: 4\n",
            "Generation: 42 \t=> Best Chromosome: [6, 10] \t with fitness: 4\n",
            "Generation: 43 \t=> Best Chromosome: [6, 10] \t with fitness: 4\n",
            "Generation: 44 \t=> Best Chromosome: [6, 10] \t with fitness: 4\n",
            "Generation: 45 \t=> Best Chromosome: [6, 10] \t with fitness: 4\n",
            "Generation: 46 \t=> Best Chromosome: [6, 10] \t with fitness: 4\n",
            "Generation: 47 \t=> Best Chromosome: [6, 10] \t with fitness: 4\n",
            "Generation: 48 \t=> Best Chromosome: [6, 10] \t with fitness: 4\n",
            "Generation: 49 \t=> Best Chromosome: [6, 10] \t with fitness: 4\n",
            "Generation: 50 \t=> Best Chromosome: [6, 10] \t with fitness: 4\n"
          ],
          "name": "stdout"
        }
      ]
    },
    {
      "cell_type": "markdown",
      "metadata": {
        "id": "zNjPGNLVMLzM",
        "colab_type": "text"
      },
      "source": [
        "### 4. Rank Based + Aritmatik\n"
      ]
    },
    {
      "cell_type": "code",
      "metadata": {
        "id": "YjqAU7SNMQHB",
        "colab_type": "code",
        "outputId": "85ffde5c-753e-47ae-d29d-0e5cd4fd87bc",
        "colab": {
          "base_uri": "https://localhost:8080/",
          "height": 867
        }
      },
      "source": [
        "# copy initial population\n",
        "buffer_of_population = []\n",
        "number_of_crossover = 5\n",
        "\n",
        "for pop in population:\n",
        "    buffer_of_population.append(Individual(pop.chromosome))\n",
        "    \n",
        "for generation in range(50):\n",
        "    for i in range(number_of_crossover):\n",
        "# selection of parent    \n",
        "      parent_1, parent_2 = Selection.rank_selection(buffer_of_population)\n",
        "\n",
        "# crossovering parent\n",
        "      offspring = Crossover.arithmetic_crossover(parent_1, parent_2)\n",
        "    \n",
        "# mutating offspring\n",
        "      offspring = Mutation.mutate(offspring)\n",
        "\n",
        "# add offspring to population\n",
        "      buffer_of_population.append(Individual(offspring))\n",
        "    \n",
        "# remove the worst fitness\n",
        "    for i in range(number_of_crossover):\n",
        "      buffer_of_population.remove(max(buffer_of_population, key=lambda x: x.fitness))\n",
        "    print(\"Generation: {} \\t=> Best Chromosome: {} \\t with fitness: {}\".format(generation + 1, min(buffer_of_population, key=lambda x: x.fitness).chromosome, min(buffer_of_population, key=lambda x: x.fitness).fitness))"
      ],
      "execution_count": 0,
      "outputs": [
        {
          "output_type": "stream",
          "text": [
            "Generation: 1 \t=> Best Chromosome: [4, 10] \t with fitness: 6\n",
            "Generation: 2 \t=> Best Chromosome: [4, 10] \t with fitness: 6\n",
            "Generation: 3 \t=> Best Chromosome: [4, 10] \t with fitness: 6\n",
            "Generation: 4 \t=> Best Chromosome: [4, 10] \t with fitness: 6\n",
            "Generation: 5 \t=> Best Chromosome: [4, 10] \t with fitness: 6\n",
            "Generation: 6 \t=> Best Chromosome: [4, 10] \t with fitness: 6\n",
            "Generation: 7 \t=> Best Chromosome: [4, 10] \t with fitness: 6\n",
            "Generation: 8 \t=> Best Chromosome: [4, 10] \t with fitness: 6\n",
            "Generation: 9 \t=> Best Chromosome: [4, 10] \t with fitness: 6\n",
            "Generation: 10 \t=> Best Chromosome: [4, 10] \t with fitness: 6\n",
            "Generation: 11 \t=> Best Chromosome: [4, 10] \t with fitness: 6\n",
            "Generation: 12 \t=> Best Chromosome: [4, 10] \t with fitness: 6\n",
            "Generation: 13 \t=> Best Chromosome: [4, 10] \t with fitness: 6\n",
            "Generation: 14 \t=> Best Chromosome: [4, 10] \t with fitness: 6\n",
            "Generation: 15 \t=> Best Chromosome: [4, 10] \t with fitness: 6\n",
            "Generation: 16 \t=> Best Chromosome: [4, 10] \t with fitness: 6\n",
            "Generation: 17 \t=> Best Chromosome: [4, 10] \t with fitness: 6\n",
            "Generation: 18 \t=> Best Chromosome: [4, 10] \t with fitness: 6\n",
            "Generation: 19 \t=> Best Chromosome: [4, 10] \t with fitness: 6\n",
            "Generation: 20 \t=> Best Chromosome: [4, 10] \t with fitness: 6\n",
            "Generation: 21 \t=> Best Chromosome: [4, 10] \t with fitness: 6\n",
            "Generation: 22 \t=> Best Chromosome: [4, 10] \t with fitness: 6\n",
            "Generation: 23 \t=> Best Chromosome: [4, 10] \t with fitness: 6\n",
            "Generation: 24 \t=> Best Chromosome: [4, 10] \t with fitness: 6\n",
            "Generation: 25 \t=> Best Chromosome: [4, 10] \t with fitness: 6\n",
            "Generation: 26 \t=> Best Chromosome: [4, 10] \t with fitness: 6\n",
            "Generation: 27 \t=> Best Chromosome: [4, 10] \t with fitness: 6\n",
            "Generation: 28 \t=> Best Chromosome: [4, 10] \t with fitness: 6\n",
            "Generation: 29 \t=> Best Chromosome: [4, 10] \t with fitness: 6\n",
            "Generation: 30 \t=> Best Chromosome: [4, 10] \t with fitness: 6\n",
            "Generation: 31 \t=> Best Chromosome: [4, 10] \t with fitness: 6\n",
            "Generation: 32 \t=> Best Chromosome: [4, 10] \t with fitness: 6\n",
            "Generation: 33 \t=> Best Chromosome: [4, 10] \t with fitness: 6\n",
            "Generation: 34 \t=> Best Chromosome: [4, 10] \t with fitness: 6\n",
            "Generation: 35 \t=> Best Chromosome: [4, 10] \t with fitness: 6\n",
            "Generation: 36 \t=> Best Chromosome: [4, 10] \t with fitness: 6\n",
            "Generation: 37 \t=> Best Chromosome: [4, 10] \t with fitness: 6\n",
            "Generation: 38 \t=> Best Chromosome: [4, 10] \t with fitness: 6\n",
            "Generation: 39 \t=> Best Chromosome: [4, 10] \t with fitness: 6\n",
            "Generation: 40 \t=> Best Chromosome: [4, 10] \t with fitness: 6\n",
            "Generation: 41 \t=> Best Chromosome: [4, 10] \t with fitness: 6\n",
            "Generation: 42 \t=> Best Chromosome: [4, 10] \t with fitness: 6\n",
            "Generation: 43 \t=> Best Chromosome: [4, 10] \t with fitness: 6\n",
            "Generation: 44 \t=> Best Chromosome: [4, 10] \t with fitness: 6\n",
            "Generation: 45 \t=> Best Chromosome: [4, 10] \t with fitness: 6\n",
            "Generation: 46 \t=> Best Chromosome: [4, 10] \t with fitness: 6\n",
            "Generation: 47 \t=> Best Chromosome: [4, 10] \t with fitness: 6\n",
            "Generation: 48 \t=> Best Chromosome: [4, 10] \t with fitness: 6\n",
            "Generation: 49 \t=> Best Chromosome: [4, 10] \t with fitness: 6\n",
            "Generation: 50 \t=> Best Chromosome: [4, 10] \t with fitness: 6\n"
          ],
          "name": "stdout"
        }
      ]
    }
  ]
}